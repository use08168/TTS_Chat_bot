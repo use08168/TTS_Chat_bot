{
 "cells": [
  {
   "cell_type": "markdown",
   "id": "b2536360",
   "metadata": {},
   "source": [
    "# 나만의 작은 비서 (하브루타 편)"
   ]
  },
  {
   "cell_type": "markdown",
   "id": "25a97526",
   "metadata": {},
   "source": [
    "1. 목소리를 받아 텍스트로 변환\n",
    "2. 받은 텍스트를 바탕으로 프로젝트 엔지니어링 진행\n",
    "3. 엔지니어링을 바탕으로 받은 내용을 음성으로 변환\n",
    "4. \"종료\"라고 말하기전까지 1~3 반복\n",
    "5. 대화한 테스트를 리스트의 형식으로 저장"
   ]
  },
  {
   "cell_type": "code",
   "execution_count": 1,
   "id": "bf97b3d7",
   "metadata": {},
   "outputs": [],
   "source": [
    "from dotenv import load_dotenv\n",
    "from openai import OpenAI\n",
    "\n",
    "import os\n",
    "\n",
    "load_dotenv()\n",
    "OPENAI_API_KEY = os.getenv('OPENAI_API_KEY')"
   ]
  },
  {
   "cell_type": "markdown",
   "id": "566c06ef",
   "metadata": {},
   "source": [
    "# 음성 인식 코드"
   ]
  },
  {
   "cell_type": "code",
   "execution_count": null,
   "id": "d71742a7",
   "metadata": {},
   "outputs": [],
   "source": [
    "import speech_recognition as sr\n",
    "\n",
    "recognizer = sr.Recognizer()\n",
    "\n",
    "while True:\n",
    "    with sr.Microphone() as source:\n",
    "        print('말씀하세요')\n",
    "        audio = recognizer.listen(source)\n",
    "        txt = recognizer.recognizer_google(audio, language='ko-KR')\n",
    "        print(txt)\n",
    "\n",
    "        if txt == '종료':\n",
    "            break"
   ]
  },
  {
   "cell_type": "markdown",
   "id": "15a59ff8",
   "metadata": {},
   "source": [
    "# TTS 코드"
   ]
  },
  {
   "cell_type": "code",
   "execution_count": null,
   "id": "7e4edc31",
   "metadata": {},
   "outputs": [],
   "source": [
    "client = OpenAI()\n",
    "\n",
    "text = \"아니 그러니깐 BTC 가격을 예측하기 위해서 하향식 구조를 이용해서 긴 시간 단위의 모델을 바탕으로 학습한 내용을 낮은 단계 모델, 즉 상위 모델보다 시간 단위가 짧은 모델에게 가중치를 제공함으로서 시계열 모델이 가격을 정확하게 예측할 수 있도록 만들었는데, 문제는 학습하는 과정에서 모델이 자원을 너무 많이 먹어서 이러한 문제를 해결하기 위해 메모리 뱅킹을 이용해서 특정 구간에서 상승, 하락에 대한 내용을 기억하고 모델이 예측하는 시점에서 메모리 뱅킹에 저장했던 내용을 바탕으로 더 빠르고 자원을 덜 사용할 수 게 개발을 하는데..\"\n",
    "\n",
    "with client.audio.speech.with_streaming_response.create(\n",
    "    model='tts-1',\n",
    "    voice='nova',\n",
    "    input=text\n",
    " ) as response:\n",
    "    response.stream_to_file('tts_output.mp3')"
   ]
  },
  {
   "cell_type": "markdown",
   "id": "14ea17cb",
   "metadata": {},
   "source": [
    "# 프롬프트 엔지니어링 코드"
   ]
  },
  {
   "cell_type": "code",
   "execution_count": null,
   "id": "bb4212e7",
   "metadata": {},
   "outputs": [],
   "source": [
    "def correct_title(query, temperature=0.3):\n",
    "    client = OpenAI()\n",
    "\n",
    "    system_instruction = \"\"\"\n",
    "    당신은 편집장 입니다 기자들이 숭고한 기사 제목을 교정하세요\n",
    "\n",
    "    #### 지시사항 ###\n",
    "    - 기사의 제목이 명확하고 주제와 잘 맞도록 수정할 것\n",
    "    - 독자의 관심을 끌 수 있도록 간결하고 임팩트 있는 표현을 사용할 것,\n",
    "    - 비속어, 은어 등은 제거하고 의미가 유지되도록 교정할 것\n",
    "\n",
    "    ### 출력 형식 ###\n",
    "    - 원래 제목: [기사의 원래 제목]\n",
    "    - 교정 제콕:\n",
    "        [기사의 교정된 제목]\n",
    "        [기사의 교정된 제목]\n",
    "        [기사의 교정된 제목]\n",
    "\n",
    "    ### 예시 ###\n",
    "    - 원래 제목: \"어제 서울에 큰불이 나서 수백명이 대피했다.\"\n",
    "    - 교정 제목: \n",
    "        \"서울 대형 화재, 수백명 대피!\"\n",
    "        \"서울서 화재, 수백명 대피해...\"\n",
    "        \"수뱍명 대피한 서울 화재\"    \n",
    "    \"\"\"\n",
    "\n",
    "    user_mmsg = f\"\"\"\n",
    "    다음 제목을 교정해주세요.\n",
    "    제목 {query}\n",
    "    \"\"\"\n",
    "\n",
    "    response = client.chat.completions.create(\n",
    "        model=\"gpt-4o\",\n",
    "        messages=[\n",
    "            {\n",
    "                \"role\":\"system\",\n",
    "                \"content\": [\n",
    "                    {\n",
    "                        \"type\":\"text\",\n",
    "                        \"text\":system_instruction\n",
    "                    }\n",
    "                    \n",
    "                ]\n",
    "            },\n",
    "            {\n",
    "                \"role\":\"user\",\n",
    "                \"content\":[\n",
    "                    {\n",
    "                        \"type\":\"text\",\n",
    "                        \"text\": user_mmsg\n",
    "                    }\n",
    "                ]\n",
    "            }\n",
    "        ],\n",
    "        response_format={\n",
    "            \"type\":\"text\"\n",
    "        },\n",
    "        temperature=temperature,\n",
    "        max_tokens=2048,\n",
    "        top_p=1,\n",
    "        frequency_penalty=1,\n",
    "        presence_penalty=1\n",
    "    )\n",
    "\n",
    "    return response.choices[0].message.content"
   ]
  },
  {
   "cell_type": "code",
   "execution_count": null,
   "id": "c0abbb2d",
   "metadata": {},
   "outputs": [],
   "source": [
    "print(correct_title(\"비 오는 날 개꿀잼 라디오 방송 사연이 나옵니다람쥐\"))"
   ]
  },
  {
   "cell_type": "markdown",
   "id": "6fae2793",
   "metadata": {},
   "source": [
    "# Chat Comlprtion"
   ]
  },
  {
   "cell_type": "code",
   "execution_count": null,
   "id": "33698184",
   "metadata": {},
   "outputs": [],
   "source": [
    "response = client.chat.completions.create(\n",
    "    model=\"gpt-4o-mini\",\n",
    "    messages=[\n",
    "        {\n",
    "            \"role\": \"system\",\n",
    "            \"content\": \"너는 친절하고 상세한 설명을 잘하는 챗봇이야\"\n",
    "        },\n",
    "        {\n",
    "            \"role\" : \"user\",\n",
    "            \"content\": \"안녕, 나는 다람쥐 썬더야\"\n",
    "        },\n",
    "        {\n",
    "            \"role\": \"assistant\",\n",
    "            \"content\": \" 안녕하세요 람쥐 썬더님, 무엇을 도와드릴까요?\"\n",
    "        },\n",
    "        {\n",
    "            \"role\": \"user\",\n",
    "            \"content\":\"내 이름이 뭐라고??\"\n",
    "        }\n",
    "    ],\n",
    "    temperature=1,\n",
    "    max_tokens=4096,\n",
    "    top_p=1\n",
    ")"
   ]
  },
  {
   "cell_type": "code",
   "execution_count": null,
   "id": "9f209d24",
   "metadata": {},
   "outputs": [],
   "source": [
    "response.choices[0].message.content"
   ]
  },
  {
   "cell_type": "markdown",
   "id": "941627c1",
   "metadata": {},
   "source": [
    "# SST"
   ]
  },
  {
   "cell_type": "code",
   "execution_count": null,
   "id": "aec128a3",
   "metadata": {},
   "outputs": [],
   "source": [
    "with open(\"gtts_output_2.mp3\", \"rb\") as f:\n",
    "    transcriptions = client.audio.transcriptions.create(\n",
    "        model='whisper-1',\n",
    "        file=f\n",
    "    )\n",
    "\n",
    "    print(transcriptions)"
   ]
  },
  {
   "cell_type": "markdown",
   "id": "fc5eedc0",
   "metadata": {},
   "source": [
    "# 텍스트 저장 및 출력"
   ]
  },
  {
   "cell_type": "code",
   "execution_count": null,
   "id": "acdf1523",
   "metadata": {},
   "outputs": [],
   "source": []
  }
 ],
 "metadata": {
  "kernelspec": {
   "display_name": "llm_env",
   "language": "python",
   "name": "python3"
  },
  "language_info": {
   "codemirror_mode": {
    "name": "ipython",
    "version": 3
   },
   "file_extension": ".py",
   "mimetype": "text/x-python",
   "name": "python",
   "nbconvert_exporter": "python",
   "pygments_lexer": "ipython3",
   "version": "3.12.11"
  }
 },
 "nbformat": 4,
 "nbformat_minor": 5
}
